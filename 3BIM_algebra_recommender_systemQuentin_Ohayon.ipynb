{
 "cells": [
  {
   "cell_type": "markdown",
   "metadata": {
    "id": "sJ0AEX96MCbI"
   },
   "source": [
    "# Project: Recommender System\n",
    "\n",
    "Objective: implement a recommender system based on user-item data, with linear algebra techniques.\n",
    "\n",
    "## The MovieLens database\n",
    "\n",
    "GroupLeng.org proposes several movie rating dataset by users of the movie recommendation website movielens.org.\n",
    "The dataset you will use is the MovielLens 100K Dataset. It is a stable benchmark that can be used for research and development. It contains 100 000 ratings on 1700 movies from around 1000 users. In addition to the ratings, metadata are available for users (age, sexe, occupation) and movies (title, release date, genre, IMDb link).\n",
    "\n",
    "The file `u.data` contains all the ratings. The first 5 rows are\n",
    "\n",
    "```\n",
    "196\t 242\t3   881250949\n",
    "186\t 302\t3   891717742\n",
    "22      377    1   878887116\n",
    "244      51    2   880606923\n",
    "166\t 346\t1   886397596\n",
    "```\n",
    "\n",
    "The data are organized by columns (user_id, movie_id, rating, date). Metadata for users are in the file` u.user` and metadata for movies are in `u.item`. User IDs range from 1 to `m` and item IDs range from 1 to `n`. \n",
    "\n",
    "Files `u1.base` and `u1.test` are subsets of the file `u.data`: a base file containing 80% of the data and a test file containing the remaining 20% of the data. Files `u2.*`, `u3.*`, `u4.*`, `u5.*` are similar; each test file contains a different 20% subset fo the data. \n",
    "\n",
    "### Question 1 - Load the data into python\n",
    "\n",
    "First download the [MovieLens 100K dataset](https://grouplens.org/datasets/movielens/100k/) and unzip it in your project directory. As the name suggests, read the `README` file.\n",
    "\n",
    "You will need the following python packages"
   ]
  },
  {
   "cell_type": "code",
   "execution_count": 1,
   "metadata": {
    "id": "wdzwc3flMCbL"
   },
   "outputs": [],
   "source": [
    "import csv\n",
    "import numpy as np\n",
    "import matplotlib as plt\n",
    "import pylab as pl"
   ]
  },
  {
   "cell_type": "markdown",
   "metadata": {
    "id": "6CnDe0zfMCbN"
   },
   "source": [
    "If you are using a python notebook, add the following command to have plots displayed inline"
   ]
  },
  {
   "cell_type": "code",
   "execution_count": 2,
   "metadata": {
    "id": "XiEGdTKgMCbO"
   },
   "outputs": [],
   "source": [
    "%matplotlib inline \n",
    "#number of users\n",
    "nu=943\n",
    "#number of items\n",
    "ni=1682"
   ]
  },
  {
   "cell_type": "markdown",
   "metadata": {
    "id": "T9xLQz3pMCbP"
   },
   "source": [
    "Import the following files from the MovieLens 100K dataset: `u1.base`, `u1.test`, `u.user`, `u.item`\n",
    "You can use the following codes to import the datasets"
   ]
  },
  {
   "cell_type": "code",
   "execution_count": 3,
   "metadata": {
    "id": "0tyTZEXmMCbP"
   },
   "outputs": [],
   "source": [
    "baseFileName = 'u1.base' # training dataset\n",
    "testFileName = 'u1.test' # test dataset (complement of the test dataset)\n",
    "userFileName = 'u.user'\n",
    "itemFileName = 'u.item'\n",
    "\n",
    "with open(baseFileName, 'r') as f:\n",
    "    fieldnames=['user','movie','rating','datestamp']\n",
    "    reader = csv.DictReader(f, delimiter = '\\t', fieldnames=fieldnames)\n",
    "    # create a dict out of reader, converting all values to integers\n",
    "    baseUserItem =  [dict([key, int(value)] for key, value in row.items()) for row in list(reader)]\n",
    "with open(testFileName, 'r') as f:\n",
    "    fieldnames=['user','movie','rating','datestamp']\n",
    "    reader = csv.DictReader(f, delimiter = '\\t', fieldnames=fieldnames)\n",
    "    # create a dict out of reader, converting all values to integers\n",
    "    testUserItem =  [dict([key, int(value)] for key, value in row.items()) for row in list(reader)]\n",
    "with open(userFileName, 'r') as f:\n",
    "    reader = csv.DictReader(f, delimiter = '|', fieldnames=['user','age','sex','occupation','zipcode'])\n",
    "    User = [dict([key, value] for key, value in row.items()) for row in list(reader)] \n",
    "with open(itemFileName, 'r', encoding='latin1') as f:\n",
    "    reader = csv.DictReader(f, delimiter = '|', fieldnames=['movie', 'movie title', 'release date', 'video release date',\\\n",
    "              'IMDb URL', 'unknown', 'Action', 'Adventure', 'Animation',\\\n",
    "              'Children''s', 'Comedy', 'Crime', 'Documentary', 'Drama', 'Fantasy',\\\n",
    "              'Film-Noir', 'Horror', 'Musical', 'Mystery', 'Romance', 'Sci-Fi',\\\n",
    "              'Thriller', 'War', 'Western'])\n",
    "    Item = [dict([key, value] for key, value in row.items()) for row in list(reader)]    "
   ]
  },
  {
   "cell_type": "markdown",
   "metadata": {
    "id": "PcJPnmM9MCbQ"
   },
   "source": [
    "If you have decoding problems, try saving the datafiles in UTF-8 and set the encoding option of the `open` function to 'utf-8'.\n",
    "\n",
    "## Recommendation problems\n",
    "\n",
    "Recommendation problems of two types. \n",
    "\n",
    "- For a given user and a given movie, give a rating prediction\n",
    "- For a given user, provide a list of N movie recommendations \n",
    "\n",
    "Several approaches are used to answer these problems. Content-based methods try to associate item characteristics to the aims of the users. These methods need to have access to a large amount of information on items and one must be able to know the aims of the users. Another class of methods, Collaborative Filtering (CF), works by comparing preferences of others users to construct the recommendations. In contrast to content-based methods, the nature of the items play no role whatsoever in CF methods. Only the ratings given by users are used to evaluate the relelance or the items. The limitation of CF methods is that they require users to rate several items before recommendations start becoming relevant. Thus, for a recommender system using CF methods, a new user poses a 'cold start' problem, and this is why new users are often asked to rate a few random items.  \n",
    "\n",
    "CF methods are based on a user-item matrix `R` of size m x n, where each coefficient $R_{u,i}$ is the rating from user $u$ on item $i$. A default value of 0 can be set when there is no rating. The prediction task consists in providing a prediction $p_{u,i}$ for unknown user-item pairs. The recommendantion task consists in providing a list of N items to a given user.\n",
    "\n",
    "**1.2.1 Question 2 - User-item matrix**\n",
    "\n",
    "**Q2.1** From the user-item data imported from `u1.base`, create a matrix `R` with coefficient `R[u-1,i-1]` being the rating given by user `u` for item `i` (`python` has a zero-based index, while IDs start at 1). If no rating is available, the coefficient must be set to 0. "
   ]
  },
  {
   "cell_type": "code",
   "execution_count": 4,
   "metadata": {
    "id": "EkToCjAVMCbR",
    "scrolled": true
   },
   "outputs": [],
   "source": [
    "# Fill the user-item matrix\n",
    "R = np.zeros( (nu,ni) ) # nu is the total number of users, ni the total number of items\n",
    "ratingPerUser = np.zeros( (nu,1) )\n",
    "for row in baseUserItem:\n",
    "    R[row['user']-1,row['movie']-1] = row['rating']"
   ]
  },
  {
   "cell_type": "markdown",
   "metadata": {
    "id": "WU6jczBBMCbS"
   },
   "source": [
    "**Q2.2** Check that the matrix `R` has the size m x n, where m is the total number of users, and n is the total number of items that can be found in the file `u.data`. This is important because it is possible that not all user or items are part of the base dataset. Missing users or items still need to be included in the matrix `R` for correct row and column indexing. \n",
    "\n",
    "To fill up the matrix `R` you can use the following code."
   ]
  },
  {
   "cell_type": "code",
   "execution_count": 5,
   "metadata": {
    "id": "Wv_0rnU2MCbT",
    "outputId": "d7c91671-5eba-4b6b-b028-f279d3a0ab0f"
   },
   "outputs": [
    {
     "data": {
      "text/plain": [
       "(943, 1682)"
      ]
     },
     "execution_count": 5,
     "metadata": {},
     "output_type": "execute_result"
    }
   ],
   "source": [
    "R.shape"
   ]
  },
  {
   "cell_type": "code",
   "execution_count": 6,
   "metadata": {
    "id": "UZHig7ZCMCbU",
    "outputId": "62998a39-709a-48d1-8c0b-1437697f3cd9"
   },
   "outputs": [
    {
     "data": {
      "text/plain": [
       "array([[5., 3., 4., ..., 0., 0., 0.],\n",
       "       [4., 0., 0., ..., 0., 0., 0.],\n",
       "       [0., 0., 0., ..., 0., 0., 0.],\n",
       "       ...,\n",
       "       [5., 0., 0., ..., 0., 0., 0.],\n",
       "       [0., 0., 0., ..., 0., 0., 0.],\n",
       "       [0., 5., 0., ..., 0., 0., 0.]])"
      ]
     },
     "execution_count": 6,
     "metadata": {},
     "output_type": "execute_result"
    }
   ],
   "source": [
    "R"
   ]
  },
  {
   "cell_type": "markdown",
   "metadata": {
    "id": "QpaIt3pnMCbU"
   },
   "source": [
    "The matrix `R` is _sparse_, most of its coefficients are zero. For the recommendation method to work, we will need first to remove the sparsity. Two obvious ways to remove the zeros in `R`\n",
    "\n",
    "- row averaging: for each row, compute the average non-zero ratings, and replace each zero by this average. \n",
    "- column averaging: for each column, compute the average non-zero ratings, and replace each zero by this average.\n",
    "\n",
    "**Q2.3** Compute both row-averaged `Rr` and column averaged `Rc` matrices. Make sure that if a row or a column is empty (all zeros), the row or the columns remains zero.\n",
    "\n",
    "You can visualize the matrices with the command"
   ]
  },
  {
   "cell_type": "markdown",
   "metadata": {
    "id": "FKI58veuMCbV"
   },
   "source": [
    "Row averaging and column averaging : "
   ]
  },
  {
   "cell_type": "code",
   "execution_count": 7,
   "metadata": {
    "id": "ujvOchjgMCbV"
   },
   "outputs": [],
   "source": [
    "Rr = np.zeros((nu,ni))\n",
    "for i in range(nu):\n",
    "    summ = 0\n",
    "    effective = 0\n",
    "    for j in range(ni):\n",
    "        if R[i][j] > 0:\n",
    "                summ = summ + R[i][j]\n",
    "                effective = 1 + effective\n",
    "                Rr[i][j]=R[i][j]\n",
    "    if effective > 0:\n",
    "        average = summ/effective\n",
    "    else:\n",
    "        average = 0\n",
    "    for j in range(ni):\n",
    "        if Rr[i][j]==0:\n",
    "            Rr[i][j]=average\n",
    "Rc = np.zeros((nu,ni))\n",
    "for j in range(ni):\n",
    "    summ = 0\n",
    "    effective = 0\n",
    "    for i in range(nu):\n",
    "        if R[i][j] > 0:\n",
    "                summ = summ + R[i][j]\n",
    "                effective = 1 + effective\n",
    "                Rc[i][j]=R[i][j]\n",
    "    if effective > 0:\n",
    "        average = summ/effective\n",
    "    else:\n",
    "        average = 0\n",
    "    for i in range(nu):\n",
    "        if Rc[i][j]==0:\n",
    "            Rc[i][j]=average"
   ]
  },
  {
   "cell_type": "code",
   "execution_count": 8,
   "metadata": {
    "id": "-iCXPKW3MCbV",
    "outputId": "36a8ba01-1571-45cf-d56c-fd2a5515ce8c"
   },
   "outputs": [
    {
     "data": {
      "text/plain": [
       "array([[5.        , 3.        , 4.        , ..., 3.68148148, 3.68148148,\n",
       "        3.68148148],\n",
       "       [4.        , 3.8       , 3.8       , ..., 3.8       , 3.8       ,\n",
       "        3.8       ],\n",
       "       [3.        , 3.        , 3.        , ..., 3.        , 3.        ,\n",
       "        3.        ],\n",
       "       ...,\n",
       "       [5.        , 4.04545455, 4.04545455, ..., 4.04545455, 4.04545455,\n",
       "        4.04545455],\n",
       "       [4.26582278, 4.26582278, 4.26582278, ..., 4.26582278, 4.26582278,\n",
       "        4.26582278],\n",
       "       [3.41071429, 5.        , 3.41071429, ..., 3.41071429, 3.41071429,\n",
       "        3.41071429]])"
      ]
     },
     "execution_count": 8,
     "metadata": {},
     "output_type": "execute_result"
    }
   ],
   "source": [
    "Rr"
   ]
  },
  {
   "cell_type": "code",
   "execution_count": 9,
   "metadata": {
    "id": "IU1iS853MCbV",
    "outputId": "521b9716-4625-4365-ba06-f0f1622323f6"
   },
   "outputs": [
    {
     "data": {
      "text/plain": [
       "array([[5.        , 3.        , 4.        , ..., 2.        , 3.        ,\n",
       "        3.        ],\n",
       "       [4.        , 3.18095238, 3.        , ..., 2.        , 3.        ,\n",
       "        3.        ],\n",
       "       [3.89295039, 3.18095238, 3.        , ..., 2.        , 3.        ,\n",
       "        3.        ],\n",
       "       ...,\n",
       "       [5.        , 3.18095238, 3.        , ..., 2.        , 3.        ,\n",
       "        3.        ],\n",
       "       [3.89295039, 3.18095238, 3.        , ..., 2.        , 3.        ,\n",
       "        3.        ],\n",
       "       [3.89295039, 5.        , 3.        , ..., 2.        , 3.        ,\n",
       "        3.        ]])"
      ]
     },
     "execution_count": 9,
     "metadata": {},
     "output_type": "execute_result"
    }
   ],
   "source": [
    "Rc"
   ]
  },
  {
   "cell_type": "markdown",
   "metadata": {
    "id": "M1hGS8r4MCbW"
   },
   "source": [
    "visualization of the Rr matrix"
   ]
  },
  {
   "cell_type": "code",
   "execution_count": 10,
   "metadata": {
    "id": "D7smWlwFMCbW",
    "outputId": "956ce142-1e25-4247-f7eb-d339abaea442"
   },
   "outputs": [
    {
     "data": {
      "text/plain": [
       "<matplotlib.image.AxesImage at 0x7ff982142b80>"
      ]
     },
     "execution_count": 10,
     "metadata": {},
     "output_type": "execute_result"
    },
    {
     "data": {
      "image/png": "[encoded data removed]",
      "text/plain": [
       "<Figure size 432x288 with 1 Axes>"
      ]
     },
     "metadata": {
      "needs_background": "light"
     },
     "output_type": "display_data"
    }
   ],
   "source": [
    "pl.imshow(Rr, interpolation='none')"
   ]
  },
  {
   "cell_type": "markdown",
   "metadata": {
    "id": "NGBBClIoMCbW"
   },
   "source": [
    "visualization of the Rc matrix"
   ]
  },
  {
   "cell_type": "code",
   "execution_count": 11,
   "metadata": {
    "id": "XzI0IpsWMCbX",
    "outputId": "767f2060-1864-4986-a2a8-013b19a90b3e"
   },
   "outputs": [
    {
     "data": {
      "text/plain": [
       "<matplotlib.image.AxesImage at 0x7ff9805a69d0>"
      ]
     },
     "execution_count": 11,
     "metadata": {},
     "output_type": "execute_result"
    },
    {
     "data": {
      "image/png": "[encoded data removed]",
      "text/plain": [
       "<Figure size 432x288 with 1 Axes>"
      ]
     },
     "metadata": {
      "needs_background": "light"
     },
     "output_type": "display_data"
    }
   ],
   "source": [
    "pl.imshow(Rc, interpolation='none')"
   ]
  },
  {
   "cell_type": "markdown",
   "metadata": {
    "id": "oqL7l5vFMCbX"
   },
   "source": [
    "## Low-rank approximation using the SVD\n",
    "\n",
    "### Question 3 - Low-rank approximation\n",
    "\n",
    "**Q3.1** Compute the reduced singular value decomposition of the matrix `Rc` (the column-averaged matrix) to obtain `U`, `s`, `Vs` such that `Rc = U diag(s) Vs`.  \n",
    "\n",
    "For a given positive integer `k`, one can define a rank `k` matrix \n",
    "\n",
    "$$R_k = U_k S_k V_k^*,$$\n",
    "\n",
    "where $U_k, S_k$, and $V_k^*$ are matrices defined based on the SVD of `Rc`.\n",
    "This matrix `Rk` could be used to make a user-item prediction. However, to make predictions computationally efficient, it is not necessary to compute the complete matrix `Rk`. Indeed, the matrix `Rk` is best represented by its SVD: the matrices `Uk`, `Sk` and `Vk` are more compact, and predicitons can be computed on demand by using the formula\n",
    "\n",
    "$$p[u,i] = U_k[u,:] \\sqrt{S_k} \\sqrt{S_k} V_k^*[:,i],$$\n",
    "\n",
    "which is just a sort of scalar product between row `u` of `Uk` and column `i` of `Vk` weighed by the singular values. To simplify the notation even more, we can define two **feature matrices** `X`, `Y`,\n",
    "\n",
    "- $X = U_k \\sqrt{S_k},$\n",
    "- $Y = \\sqrt{S_k} V_k^*.$\n",
    "\n",
    "Then the prediction for user `u` and item `i` is the scalar product of row `u` of `X` by column `i` of `Y`. \n",
    "\n",
    "**Q3.2** Write a routine called `feature_matrices` that takes as input the rank `k` and the SVD output `U`, `s` and `Vs`, and returns the two user feature matrix `X` and the item feature `Y`. (Do not compute an SVD within this routine).\n",
    "\n",
    "The square root of a matrix is not defined in general, but for diagonal matrices, the square root of a matrix is just the matrix of the sqaure roots of the diagonals. \n",
    "\n",
    "**Q3.3** Can you give an interpretation of the feature matrices `X` and `Y`? Try with `k=1..3`."
   ]
  },
  {
   "cell_type": "code",
   "execution_count": 12,
   "metadata": {
    "id": "MPqbLPkPMCbX"
   },
   "outputs": [],
   "source": [
    "U, s, Vs = np.linalg.svd(Rc, full_matrices=False)\n",
    "S=np.diag(s)\n",
    "C=U.dot(S).dot(Vs)"
   ]
  },
  {
   "cell_type": "code",
   "execution_count": 13,
   "metadata": {
    "id": "qiFHNrprMCbY"
   },
   "outputs": [],
   "source": [
    "def feature_matrices(k,U,S,Vs):\n",
    "    Uk=U[:,:k] #to keep the first k columns\n",
    "    Vsk=Vs[:k,:] #to keep the first k lines\n",
    "    Sk=np.diag(s[:k])\n",
    "    X=Uk.dot(np.sqrt(Sk))\n",
    "    Y=np.sqrt(Sk).dot(Vsk)\n",
    "    return X, Y"
   ]
  },
  {
   "cell_type": "code",
   "execution_count": 14,
   "metadata": {
    "id": "MdjDDazrMCbY",
    "outputId": "ec87ed0a-5469-4eab-f489-9563947736e0"
   },
   "outputs": [],
   "source": [
    "def predictionSVD(U,S,Vh,k):\n",
    "    Uk=U[:,:k] #to keep the first k columns\n",
    "    Vsk=Vs[:k,:] #to keep the first k lines\n",
    "    Sk=np.diag(s[:k])\n",
    "    X=Uk.dot(np.sqrt(Sk))\n",
    "    Y=np.sqrt(Sk).dot(Vsk)\n",
    "    return Xk.dot(Yk)"
   ]
  },
  {
   "cell_type": "code",
   "execution_count": 15,
   "metadata": {
    "id": "fAwRppnYMCbZ",
    "outputId": "3ba4362c-75fb-4c7c-c5f6-a608a8cfae03",
    "scrolled": true
   },
   "outputs": [
    {
     "data": {
      "text/plain": [
       "(array([[-2.06400667e+00, -2.42074803e-02,  6.84571959e-02],\n",
       "        [-2.05788420e+00,  1.29679650e-02, -3.96362242e-04],\n",
       "        [-2.05127909e+00,  6.89364220e-02,  2.01662979e-02],\n",
       "        ...,\n",
       "        [-2.05849807e+00, -5.72910556e-02, -2.53235565e-02],\n",
       "        [-2.07254956e+00, -2.00394871e-01,  4.03576602e-02],\n",
       "        [-2.05427971e+00, -4.61491858e-03, -1.75554120e-02]]),\n",
       " array([[-1.89534741, -1.54851958, -1.46017573, ..., -0.97324883,\n",
       "         -1.45987325, -1.45987325],\n",
       "        [-0.83513453, -0.33624919, -0.19057922, ...,  0.05525668,\n",
       "          0.08288502,  0.08288502],\n",
       "        [ 0.06354871,  0.40781084, -0.04599214, ..., -0.057633  ,\n",
       "         -0.0864495 , -0.0864495 ]]))"
      ]
     },
     "execution_count": 15,
     "metadata": {},
     "output_type": "execute_result"
    }
   ],
   "source": [
    "feature_matrices(1,U,S,Vs)\n",
    "feature_matrices(2, U, S, Vs)\n",
    "feature_matrices(3, U, S, Vs)"
   ]
  },
  {
   "cell_type": "markdown",
   "metadata": {
    "id": "94kKsj06MCbZ"
   },
   "source": [
    "The matrix Rk can be used to make a prediction of the user item. 𝑋𝑘 and 𝑌𝑘 are the feature matrices, of users and items (movies) respectively (vertical for X, horizontal for Y). The vectors 𝑋𝑘(𝑢) correspond for each user u, to their evaluation preferences based on the first k evaluations. The vectors 𝑌𝑘(𝑖) correspond for each movie i to its characterization according to the first k general trends. A trend can correspond to a similarity between groups. Sk seeks to scale the values\n",
    "\n",
    "(traduction française : La matrice Rk peut être utilisée pour faire une prédiction de l'élément utilisateur. 𝑋𝑘 et 𝑌𝑘 sont les matrices features, respectivement des utilisateurs et des items (films) (verticale pour X, horizontal pour Y). Les vecteurs 𝑋𝑘(𝑢) correspondent pour chaque utilisateur u, à ses préférences d'évaluation en fonction des k premières évaluation. Les vecteurs 𝑌𝑘(𝑖) correspondent pour chaque film i à sa caractérisation selon les k premières tendances générales. Une tendance peut correspondre a une similitude entre les groupes. Sk cherche a mettre a l'echelle les valeurs)"
   ]
  },
  {
   "cell_type": "markdown",
   "metadata": {
    "id": "cquoJKVaMCbZ"
   },
   "source": [
    "## Quality of the prediction\n",
    "\n",
    "The feature matrices were constructed from the base dataset only. We will evaluate the quality of the prediction by comparing the prediciton to the real ratings from the test dataset. For each user-item pair in the test dataset, we will compute a prediction. The measure of the quality of the prediciton is the **mean absolute error** (MAE) \n",
    "\n",
    "$$MAE = \\frac{1}{N_{test}} \\sum_{r \\in \\text{test set}} |p_{u(r),i(r)} - trueRating(r)|.$$\n",
    "\n",
    "### Question 4 - Mean absolute error \n",
    "\n",
    "**Q4.1** For `k = 1, 2, ..., 30, 40, 50`, compute the MAE based on the rank `k` approximation. Use the following code to do that. \n"
   ]
  },
  {
   "cell_type": "code",
   "execution_count": 16,
   "metadata": {
    "id": "_S0Bm1WIMCbZ",
    "outputId": "58d379f3-4f1b-4b55-ea90-0b05e661e383"
   },
   "outputs": [
    {
     "name": "stdout",
     "output_type": "stream",
     "text": [
      "k =  1 MAE =  0.817535874429764\n",
      "k =  2 MAE =  0.8060182179584896\n",
      "k =  3 MAE =  0.8063794520622469\n",
      "k =  4 MAE =  0.7999480561568809\n",
      "k =  5 MAE =  0.7971481283460092\n",
      "k =  6 MAE =  0.7954078602944552\n",
      "k =  7 MAE =  0.79424542002051\n",
      "k =  8 MAE =  0.7934606960033898\n",
      "k =  9 MAE =  0.7929599209815952\n",
      "k =  10 MAE =  0.792119391684589\n",
      "k =  11 MAE =  0.7915582897424817\n",
      "k =  12 MAE =  0.7917961109046985\n",
      "k =  13 MAE =  0.7915966687892533\n",
      "k =  14 MAE =  0.7914601392655753\n",
      "k =  15 MAE =  0.7913051066122982\n",
      "k =  16 MAE =  0.7915865673732649\n",
      "k =  17 MAE =  0.791788903310373\n",
      "k =  18 MAE =  0.7920935093368853\n",
      "k =  19 MAE =  0.792137673127241\n",
      "k =  20 MAE =  0.7918432282624869\n",
      "k =  21 MAE =  0.7922044504481306\n",
      "k =  22 MAE =  0.7923580951397499\n",
      "k =  23 MAE =  0.7930691463044667\n",
      "k =  24 MAE =  0.7931834367872042\n",
      "k =  25 MAE =  0.7935053356299926\n",
      "k =  26 MAE =  0.7941679735684652\n",
      "k =  27 MAE =  0.7949481438277141\n",
      "k =  28 MAE =  0.7950292409544367\n",
      "k =  29 MAE =  0.7950363212450078\n",
      "k =  30 MAE =  0.7953212755053638\n",
      "k =  40 MAE =  0.7975337555519291\n",
      "k =  50 MAE =  0.7989525862978183\n"
     ]
    },
    {
     "data": {
      "text/plain": [
       "Text(0, 0.5, 'MAE')"
      ]
     },
     "execution_count": 16,
     "metadata": {},
     "output_type": "execute_result"
    },
    {
     "data": {
      "image/png": "[encoded data removed]",
      "text/plain": [
       "<Figure size 432x288 with 1 Axes>"
      ]
     },
     "metadata": {
      "needs_background": "light"
     },
     "output_type": "display_data"
    }
   ],
   "source": [
    "range_k = list(range(1,31)) + [40,50]\n",
    "MAE = [] \n",
    "trueRating = [r['rating'] for r in testUserItem] # extract the true ratings \n",
    "for k in range_k:\n",
    "    # compute the truncated SVD\n",
    "\n",
    "    X, Y = feature_matrices(k, U, s, Vs) \n",
    "    # perform the prediction\n",
    "    prediction = [np.dot(X[(r['user']-1),:],Y[:,(r['movie']-1)]) for r in testUserItem]\n",
    "    \n",
    "    # compute the errors\n",
    "    errorRating = np.asmatrix(prediction) - np.asmatrix(trueRating)\n",
    "    \n",
    "    # Get MAE\n",
    "    MAE.append(np.mean(np.abs(errorRating))) # Mean Absolute Error\n",
    "    print(\"k = \",k, \"MAE = \",(np.mean(np.abs(errorRating))) )\n",
    "pl.plot(range_k, MAE, '-+')\n",
    "pl.xlabel('number of features k')\n",
    "pl.ylabel('MAE')"
   ]
  },
  {
   "cell_type": "markdown",
   "metadata": {
    "id": "UBImyW2FMCba"
   },
   "source": [
    "**Q4.2** Is there an optimal number of features `k`? How much improvement in MAE is there compared to the naive prediction based on the column-averaged matrix?"
   ]
  },
  {
   "cell_type": "markdown",
   "metadata": {},
   "source": [
    "Yes there is an optimal number: k = 15 because it is the minimum of the curve, where the MAE is minimal. There is an improvement of the MAE when we make with the matrix Rr because k=15 whereas for the matrix Rc we find k = 17\n",
    "(traduction française: Oui il existe un nombre optimal : k = 15 car il s'agit du minimun de la courbe, la ou le MAE est minimun. Il y a une amélioration du MAE quand on fait avec la matrice Rr car k=15 alors que pour la matrice Rc on trouve k = 17)"
   ]
  },
  {
   "cell_type": "markdown",
   "metadata": {
    "id": "RsK_fzGFMCba"
   },
   "source": [
    "### Calcul de la MAE Naïve avec Rr:"
   ]
  },
  {
   "cell_type": "code",
   "execution_count": 17,
   "metadata": {},
   "outputs": [
    {
     "name": "stdout",
     "output_type": "stream",
     "text": [
      "k =  1 MAE =  0.8326768692021637\n",
      "k =  2 MAE =  0.821106444412233\n",
      "k =  3 MAE =  0.8120213134397164\n",
      "k =  4 MAE =  0.8111105452391708\n",
      "k =  5 MAE =  0.8087415447159844\n",
      "k =  6 MAE =  0.8081383533467974\n",
      "k =  7 MAE =  0.8061760029475262\n",
      "k =  8 MAE =  0.8051129430430006\n",
      "k =  9 MAE =  0.8052048904261166\n",
      "k =  10 MAE =  0.805252035562353\n",
      "k =  11 MAE =  0.8056244360281724\n",
      "k =  12 MAE =  0.8051726712361056\n",
      "k =  13 MAE =  0.8050435806418506\n",
      "k =  14 MAE =  0.8050184584915522\n",
      "k =  15 MAE =  0.8049808085027961\n",
      "k =  16 MAE =  0.8052217080662871\n",
      "k =  17 MAE =  0.804927151551959\n",
      "k =  18 MAE =  0.8049848542235899\n",
      "k =  19 MAE =  0.8052379530650747\n",
      "k =  20 MAE =  0.8058841067621308\n",
      "k =  21 MAE =  0.8059360396931372\n",
      "k =  22 MAE =  0.8065537789859755\n",
      "k =  23 MAE =  0.8069833734921463\n",
      "k =  24 MAE =  0.807133613174707\n",
      "k =  25 MAE =  0.8071045037449872\n",
      "k =  26 MAE =  0.8072346777592163\n",
      "k =  27 MAE =  0.8075462931284447\n",
      "k =  28 MAE =  0.807962210835326\n",
      "k =  29 MAE =  0.8084340476287376\n",
      "k =  30 MAE =  0.8085760425677346\n",
      "k =  40 MAE =  0.8121880596412802\n",
      "k =  50 MAE =  0.8159215872684151\n"
     ]
    },
    {
     "data": {
      "text/plain": [
       "Text(0, 0.5, 'MAE')"
      ]
     },
     "execution_count": 17,
     "metadata": {},
     "output_type": "execute_result"
    },
    {
     "data": {
      "image/png": "[encoded data removed]",
      "text/plain": [
       "<Figure size 432x288 with 1 Axes>"
      ]
     },
     "metadata": {
      "needs_background": "light"
     },
     "output_type": "display_data"
    }
   ],
   "source": [
    "range_k = list(range(1,31)) + [40,50]\n",
    "MAE = [] \n",
    "trueRating = [r['rating'] for r in testUserItem] # extract the true ratings \n",
    "U, s, Vs = np.linalg.svd(Rr, full_matrices=False)\n",
    "for k in range_k:\n",
    "    # compute the truncated SVD\n",
    "\n",
    "    X, Y = feature_matrices(k, U, s, Vs) \n",
    "    \n",
    "    # perform the prediction\n",
    "    prediction = [np.dot(X[(r['user']-1),:],Y[:,(r['movie']-1)]) for r in testUserItem]\n",
    "    \n",
    "    # compute the errors\n",
    "    errorRating = np.asmatrix(prediction) - np.asmatrix(trueRating)\n",
    "    \n",
    "    # Get MAE\n",
    "    MAE.append(np.mean(np.abs(errorRating))) # Mean Absolute Error\n",
    "    print(\"k = \",k, \"MAE = \",(np.mean(np.abs(errorRating))) )\n",
    "pl.plot(range_k, MAE, '-+')\n",
    "pl.xlabel('number of features k')\n",
    "pl.ylabel('MAE')"
   ]
  },
  {
   "cell_type": "code",
   "execution_count": 18,
   "metadata": {
    "id": "jDxeP9BEMCba",
    "outputId": "081a81af-36af-413b-f3b2-a9c4ccdb6d9e"
   },
   "outputs": [
    {
     "name": "stdout",
     "output_type": "stream",
     "text": [
      "MAE Naive avec Rr 0.8084128405882716\n"
     ]
    }
   ],
   "source": [
    "print(\"MAE Naive avec Rr\", np.mean(MAE))"
   ]
  },
  {
   "cell_type": "markdown",
   "metadata": {
    "id": "6RV1OQnuMCbb"
   },
   "source": [
    "### Calcul de la MAE Naïve avec Rc:"
   ]
  },
  {
   "cell_type": "code",
   "execution_count": 19,
   "metadata": {
    "id": "UO9hdK1LMCbb"
   },
   "outputs": [
    {
     "name": "stdout",
     "output_type": "stream",
     "text": [
      "k =  1 MAE =  0.817535874429764\n",
      "k =  2 MAE =  0.8060182179584896\n",
      "k =  3 MAE =  0.8063794520622469\n",
      "k =  4 MAE =  0.7999480561568809\n",
      "k =  5 MAE =  0.7971481283460092\n",
      "k =  6 MAE =  0.7954078602944552\n",
      "k =  7 MAE =  0.79424542002051\n",
      "k =  8 MAE =  0.7934606960033898\n",
      "k =  9 MAE =  0.7929599209815952\n",
      "k =  10 MAE =  0.792119391684589\n",
      "k =  11 MAE =  0.7915582897424817\n",
      "k =  12 MAE =  0.7917961109046985\n",
      "k =  13 MAE =  0.7915966687892533\n",
      "k =  14 MAE =  0.7914601392655753\n",
      "k =  15 MAE =  0.7913051066122982\n",
      "k =  16 MAE =  0.7915865673732649\n",
      "k =  17 MAE =  0.791788903310373\n",
      "k =  18 MAE =  0.7920935093368853\n",
      "k =  19 MAE =  0.792137673127241\n",
      "k =  20 MAE =  0.7918432282624869\n",
      "k =  21 MAE =  0.7922044504481306\n",
      "k =  22 MAE =  0.7923580951397499\n",
      "k =  23 MAE =  0.7930691463044667\n",
      "k =  24 MAE =  0.7931834367872042\n",
      "k =  25 MAE =  0.7935053356299926\n",
      "k =  26 MAE =  0.7941679735684652\n",
      "k =  27 MAE =  0.7949481438277141\n",
      "k =  28 MAE =  0.7950292409544367\n",
      "k =  29 MAE =  0.7950363212450078\n",
      "k =  30 MAE =  0.7953212755053638\n",
      "k =  40 MAE =  0.7975337555519291\n",
      "k =  50 MAE =  0.7989525862978183\n"
     ]
    },
    {
     "data": {
      "text/plain": [
       "Text(0, 0.5, 'MAE')"
      ]
     },
     "execution_count": 19,
     "metadata": {},
     "output_type": "execute_result"
    },
    {
     "data": {
      "image/png": "[encoded data removed]",
      "text/plain": [
       "<Figure size 432x288 with 1 Axes>"
      ]
     },
     "metadata": {
      "needs_background": "light"
     },
     "output_type": "display_data"
    }
   ],
   "source": [
    "range_k = list(range(1,31)) + [40,50]\n",
    "MAE = [] \n",
    "trueRating = [r['rating'] for r in testUserItem] # extract the true ratings \n",
    "U, s, Vs = np.linalg.svd(Rc, full_matrices=False)\n",
    "for k in range_k:\n",
    "    # compute the truncated SVD\n",
    "    X, Y = feature_matrices(k, U, s, Vs)\n",
    "    \n",
    "    # perform the prediction\n",
    "    prediction = [np.dot(X[(r['user']-1),:],Y[:,(r['movie']-1)]) for r in testUserItem]\n",
    "    \n",
    "    # compute the errors\n",
    "    errorRating = np.asmatrix(prediction) - np.asmatrix(trueRating)\n",
    "    \n",
    "    # Get MAE\n",
    "    MAE.append(np.mean(np.abs(errorRating))) # Mean Absolute Error\n",
    "    print(\"k = \",k, \"MAE = \",(np.mean(np.abs(errorRating))) )\n",
    "pl.plot(range_k, MAE, '-+')\n",
    "pl.xlabel('number of features k')\n",
    "pl.ylabel('MAE')"
   ]
  },
  {
   "cell_type": "code",
   "execution_count": 20,
   "metadata": {
    "id": "pwfmBGWUMCbb",
    "outputId": "7081c0de-46f1-4ad4-d39b-639b5902a7c8"
   },
   "outputs": [
    {
     "name": "stdout",
     "output_type": "stream",
     "text": [
      "MAE Naive avec Rc 0.7952405929975865\n"
     ]
    }
   ],
   "source": [
    "print(\"MAE Naive avec Rc\", np.mean(MAE))"
   ]
  },
  {
   "cell_type": "markdown",
   "metadata": {
    "id": "Aer-pN7tMCbb"
   },
   "source": [
    "**Q4.3** For `k = 1, 2, ..., 30, 40, 50`, compute the MAE based on the rank `k` approximation of the row-averaged matrix `Rr`. Compared with the results obtained with the column-averaged matrix `Rc`. What kind of matrix completion works best?"
   ]
  },
  {
   "cell_type": "markdown",
   "metadata": {
    "id": "2T_OypvaMCbc"
   },
   "source": [
    "The type of matrix completion that works best is the Rc matrix because it has a lower MAE  (traduction française :Le type de complétion de matrice qui fonctionne le mieux est la matrice Rc car elle a une MAE plus faible)"
   ]
  },
  {
   "cell_type": "markdown",
   "metadata": {
    "id": "42bD2h17MCbc"
   },
   "source": [
    "### Question 5 - Repeat question 4 for the other training datasets\n",
    "\n",
    "For the recommender system to be robust, the results obtained in Question 4 (optimal value of `k`, row-averaged matrix vs column-averaged matrix) should not depend on the training dataset. Repeat the question 4 with the other training datasets `u2`, `u3`, `u4` and `u5`. \n",
    "\n",
    "**Q5.1** Are your results robust? Answer quantitatively.\n",
    "\n",
    "yes they are solid because when we substrat the minimal MAE from the row average from the minimal MAE from the column average, we get the following values :\n",
    "\n",
    "u1: 0.8084-0.7952 = 0.0132\n",
    "\n",
    "u2: 0.7908-0.7824 = 0.0084\n",
    "\n",
    "u3: 0.7807-0.7769 = 0.0038\n",
    "\n",
    "u4: 0.7860-0.7760 = 0.0100\n",
    "\n",
    "u5: 0.7941-0.7864 = 0.0077\n",
    "\n",
    "We can see that u1 has the highest MAE for the two averaged matrices, but all values are pretty close from one another.\n",
    "The values for the column and row are small enough to consider the system robust.\n",
    "\n",
    "\n",
    "\n",
    "\n",
    "**Q5.2** How would you change the recommender system? \n",
    "\n",
    "I would modify the system of recommendation so that as soon as we reach more than 20 films note it removes the first notes given. We could make an SVD++ which is more efficient than our SVD. One difference for example is that the chance of the user \"liking\" an item that he has evaluated is higher than for a random un-evaluated item. Or we could use the restricted Boltzmann machine which is a type of artificial neural network.\n",
    "\n",
    "(traduction française : Je modifierais le systeme de recommandation pour que des que si l'on atteind plus de 20 films noté, cela supprime les premeriere notes donné. On pourrait faire une SVD++ qui est plus performante que notre SVD. Une difference par exemple est que la chance que l'utilisateur \"aime\" un élément qu'il a évalué sont plus élevées que pour un élément aléatoire non évalué. Ou l'on pourrait utiliser la machine de Boltzmann restreinte qui est un type de réseau de neurones artificiels)"
   ]
  },
  {
   "cell_type": "markdown",
   "metadata": {
    "id": "SIoFt_gRMCbc"
   },
   "source": [
    "For U2"
   ]
  },
  {
   "cell_type": "code",
   "execution_count": 21,
   "metadata": {
    "id": "Hqc4mu4jMCbd"
   },
   "outputs": [],
   "source": [
    "baseFileName = 'u2.base' # training dataset\n",
    "testFileName = 'u2.test' # test dataset (complement of the test dataset)\n",
    "userFileName = 'u.user'\n",
    "itemFileName = 'u.item'\n",
    "\n",
    "with open(baseFileName, 'r') as f:\n",
    "    fieldnames=['user','movie','rating','datestamp']\n",
    "    reader = csv.DictReader(f, delimiter = '\\t', fieldnames=fieldnames)\n",
    "    # create a dict out of reader, converting all values to integers\n",
    "    baseUserItem =  [dict([key, int(value)] for key, value in row.items()) for row in list(reader)]\n",
    "with open(testFileName, 'r') as f:\n",
    "    fieldnames=['user','movie','rating','datestamp']\n",
    "    reader = csv.DictReader(f, delimiter = '\\t', fieldnames=fieldnames)\n",
    "    # create a dict out of reader, converting all values to integers\n",
    "    testUserItem =  [dict([key, int(value)] for key, value in row.items()) for row in list(reader)]\n",
    "with open(userFileName, 'r') as f:\n",
    "    reader = csv.DictReader(f, delimiter = '|', fieldnames=['user','age','sex','occupation','zipcode'])\n",
    "    User = [dict([key, value] for key, value in row.items()) for row in list(reader)] \n",
    "with open(itemFileName, 'r', encoding='latin1') as f:\n",
    "    reader = csv.DictReader(f, delimiter = '|', fieldnames=['movie', 'movie title', 'release date', 'video release date',\\\n",
    "              'IMDb URL', 'unknown', 'Action', 'Adventure', 'Animation',\\\n",
    "              'Children''s', 'Comedy', 'Crime', 'Documentary', 'Drama', 'Fantasy',\\\n",
    "              'Film-Noir', 'Horror', 'Musical', 'Mystery', 'Romance', 'Sci-Fi',\\\n",
    "              'Thriller', 'War', 'Western'])\n",
    "    Item = [dict([key, value] for key, value in row.items()) for row in list(reader)]    "
   ]
  },
  {
   "cell_type": "code",
   "execution_count": 22,
   "metadata": {},
   "outputs": [],
   "source": [
    "# Fill the user-item matrix\n",
    "R = np.zeros( (nu,ni) ) # nu is the total number of users, ni the total number of items\n",
    "ratingPerUser = np.zeros( (nu,1) )\n",
    "for row in baseUserItem:\n",
    "    R[row['user']-1,row['movie']-1] = row['rating']"
   ]
  },
  {
   "cell_type": "code",
   "execution_count": 23,
   "metadata": {},
   "outputs": [],
   "source": [
    "Rr = np.zeros((nu,ni))\n",
    "for i in range(nu):\n",
    "    summ = 0\n",
    "    effective = 0\n",
    "    for j in range(ni):\n",
    "        if R[i][j] > 0:\n",
    "                summ = summ + R[i][j]\n",
    "                effective = 1 + effective\n",
    "                Rr[i][j]=R[i][j]\n",
    "    if effective > 0:\n",
    "        average = summ/effective\n",
    "    else:\n",
    "        average = 0\n",
    "    for j in range(ni):\n",
    "        if Rr[i][j]==0:\n",
    "            Rr[i][j]=average\n",
    "Rc = np.zeros((nu,ni))\n",
    "for j in range(ni):\n",
    "    summ = 0\n",
    "    effective = 0\n",
    "    for i in range(nu):\n",
    "        if R[i][j] > 0:\n",
    "                summ = summ + R[i][j]\n",
    "                effective = 1 + effective\n",
    "                Rc[i][j]=R[i][j]\n",
    "    if effective > 0:\n",
    "        average = summ/effective\n",
    "    else:\n",
    "        average = 0\n",
    "    for i in range(nu):\n",
    "        if Rc[i][j]==0:\n",
    "            Rc[i][j]=average"
   ]
  },
  {
   "cell_type": "code",
   "execution_count": 24,
   "metadata": {},
   "outputs": [],
   "source": [
    "U, s, Vs = np.linalg.svd(Rc, full_matrices=False)"
   ]
  },
  {
   "cell_type": "code",
   "execution_count": 25,
   "metadata": {
    "id": "INST4evxMCbd"
   },
   "outputs": [
    {
     "data": {
      "text/plain": [
       "Text(0, 0.5, 'MAE')"
      ]
     },
     "execution_count": 25,
     "metadata": {},
     "output_type": "execute_result"
    },
    {
     "data": {
      "image/png": "[encoded data removed]",
      "text/plain": [
       "<Figure size 432x288 with 1 Axes>"
      ]
     },
     "metadata": {
      "needs_background": "light"
     },
     "output_type": "display_data"
    }
   ],
   "source": [
    "range_k = list(range(1,31)) + [40,50]\n",
    "MAE = [] \n",
    "trueRating = [r['rating'] for r in testUserItem] # extract the true ratings \n",
    "for k in range_k:\n",
    "    # compute the truncated SVD\n",
    "    X, Y = feature_matrices(k, U, S, Vs)\n",
    "   \n",
    "    # perform the prediction\n",
    "    prediction = [np.dot(X[(r['user']-1),:],Y[:,(r['movie']-1)]) for r in testUserItem]\n",
    "    \n",
    "    # compute the errors\n",
    "    errorRating = np.asmatrix(prediction) - np.asmatrix(trueRating)\n",
    "    \n",
    "    # Get MAE\n",
    "    MAE.append(np.mean(np.abs(errorRating))) # Mean Absolute Error\n",
    "pl.plot(range_k, MAE, '-+')\n",
    "pl.xlabel('number of features k')\n",
    "pl.ylabel('MAE')"
   ]
  },
  {
   "cell_type": "code",
   "execution_count": 26,
   "metadata": {
    "id": "8uWxFEyeMCbd",
    "outputId": "a096647b-7cae-4180-88de-34550389f19f"
   },
   "outputs": [
    {
     "name": "stdout",
     "output_type": "stream",
     "text": [
      "MAE Naive avec Rc 0.782437070834483\n"
     ]
    }
   ],
   "source": [
    "print(\"MAE Naive avec Rc\", np.mean(MAE))"
   ]
  },
  {
   "cell_type": "code",
   "execution_count": 27,
   "metadata": {},
   "outputs": [],
   "source": [
    "U, s, Vs = np.linalg.svd(Rr, full_matrices=False)"
   ]
  },
  {
   "cell_type": "code",
   "execution_count": 28,
   "metadata": {
    "id": "xcgFgY_sMCbe"
   },
   "outputs": [
    {
     "data": {
      "text/plain": [
       "Text(0, 0.5, 'MAE')"
      ]
     },
     "execution_count": 28,
     "metadata": {},
     "output_type": "execute_result"
    },
    {
     "data": {
      "image/png": "[encoded data removed]",
      "text/plain": [
       "<Figure size 432x288 with 1 Axes>"
      ]
     },
     "metadata": {
      "needs_background": "light"
     },
     "output_type": "display_data"
    }
   ],
   "source": [
    "range_k = list(range(1,31)) + [40,50]\n",
    "MAE = [] \n",
    "trueRating = [r['rating'] for r in testUserItem] # extract the true ratings \n",
    "for k in range_k:\n",
    "    # compute the truncated SVD\n",
    "\n",
    "    X, Y = feature_matrices(k, U, s, Vs) \n",
    "    \n",
    "    # perform the prediction\n",
    "    prediction = [np.dot(X[(r['user']-1),:],Y[:,(r['movie']-1)]) for r in testUserItem]\n",
    "    \n",
    "    # compute the errors\n",
    "    errorRating = np.asmatrix(prediction) - np.asmatrix(trueRating)\n",
    "    \n",
    "    # Get MAE\n",
    "    MAE.append(np.mean(np.abs(errorRating))) # Mean Absolute Error\n",
    "pl.plot(range_k, MAE, '-+')\n",
    "pl.xlabel('number of features k')\n",
    "pl.ylabel('MAE')"
   ]
  },
  {
   "cell_type": "code",
   "execution_count": 29,
   "metadata": {
    "id": "4xGTsIjsMCbe",
    "outputId": "c9dc5261-9c5e-4f8a-fd31-23576ec34cd4"
   },
   "outputs": [
    {
     "name": "stdout",
     "output_type": "stream",
     "text": [
      "MAE Naive avec Rr 0.7908947540265239\n"
     ]
    }
   ],
   "source": [
    "print(\"MAE Naive avec Rr\", np.mean(MAE))"
   ]
  },
  {
   "cell_type": "markdown",
   "metadata": {
    "id": "XVXX-S33MCbe"
   },
   "source": [
    "For U3"
   ]
  },
  {
   "cell_type": "code",
   "execution_count": 30,
   "metadata": {
    "id": "n2vjiWP9MCbf"
   },
   "outputs": [],
   "source": [
    "baseFileName = 'u3.base' # training dataset\n",
    "testFileName = 'u3.test' # test dataset (complement of the test dataset)\n",
    "userFileName = 'u.user'\n",
    "itemFileName = 'u.item'\n",
    "\n",
    "with open(baseFileName, 'r') as f:\n",
    "    fieldnames=['user','movie','rating','datestamp']\n",
    "    reader = csv.DictReader(f, delimiter = '\\t', fieldnames=fieldnames)\n",
    "    # create a dict out of reader, converting all values to integers\n",
    "    baseUserItem =  [dict([key, int(value)] for key, value in row.items()) for row in list(reader)]\n",
    "with open(testFileName, 'r') as f:\n",
    "    fieldnames=['user','movie','rating','datestamp']\n",
    "    reader = csv.DictReader(f, delimiter = '\\t', fieldnames=fieldnames)\n",
    "    # create a dict out of reader, converting all values to integers\n",
    "    testUserItem =  [dict([key, int(value)] for key, value in row.items()) for row in list(reader)]\n",
    "with open(userFileName, 'r') as f:\n",
    "    reader = csv.DictReader(f, delimiter = '|', fieldnames=['user','age','sex','occupation','zipcode'])\n",
    "    User = [dict([key, value] for key, value in row.items()) for row in list(reader)] \n",
    "with open(itemFileName, 'r', encoding='latin1') as f:\n",
    "    reader = csv.DictReader(f, delimiter = '|', fieldnames=['movie', 'movie title', 'release date', 'video release date',\\\n",
    "              'IMDb URL', 'unknown', 'Action', 'Adventure', 'Animation',\\\n",
    "              'Children''s', 'Comedy', 'Crime', 'Documentary', 'Drama', 'Fantasy',\\\n",
    "              'Film-Noir', 'Horror', 'Musical', 'Mystery', 'Romance', 'Sci-Fi',\\\n",
    "              'Thriller', 'War', 'Western'])\n",
    "    Item = [dict([key, value] for key, value in row.items()) for row in list(reader)]    "
   ]
  },
  {
   "cell_type": "code",
   "execution_count": 31,
   "metadata": {},
   "outputs": [],
   "source": [
    "# Fill the user-item matrix\n",
    "R = np.zeros( (nu,ni) ) # nu is the total number of users, ni the total number of items\n",
    "ratingPerUser = np.zeros( (nu,1) )\n",
    "for row in baseUserItem:\n",
    "    R[row['user']-1,row['movie']-1] = row['rating']"
   ]
  },
  {
   "cell_type": "code",
   "execution_count": 32,
   "metadata": {},
   "outputs": [],
   "source": [
    "Rr = np.zeros((nu,ni))\n",
    "for i in range(nu):\n",
    "    summ = 0\n",
    "    effective = 0\n",
    "    for j in range(ni):\n",
    "        if R[i][j] > 0:\n",
    "                summ = summ + R[i][j]\n",
    "                effective = 1 + effective\n",
    "                Rr[i][j]=R[i][j]\n",
    "    if effective > 0:\n",
    "        average = summ/effective\n",
    "    else:\n",
    "        average = 0\n",
    "    for j in range(ni):\n",
    "        if Rr[i][j]==0:\n",
    "            Rr[i][j]=average\n",
    "Rc = np.zeros((nu,ni))\n",
    "for j in range(ni):\n",
    "    summ = 0\n",
    "    effective = 0\n",
    "    for i in range(nu):\n",
    "        if R[i][j] > 0:\n",
    "                summ = summ + R[i][j]\n",
    "                effective = 1 + effective\n",
    "                Rc[i][j]=R[i][j]\n",
    "    if effective > 0:\n",
    "        average = summ/effective\n",
    "    else:\n",
    "        average = 0\n",
    "    for i in range(nu):\n",
    "        if Rc[i][j]==0:\n",
    "            Rc[i][j]=average"
   ]
  },
  {
   "cell_type": "code",
   "execution_count": 33,
   "metadata": {},
   "outputs": [],
   "source": [
    "U, s, Vs = np.linalg.svd(Rc, full_matrices=False)"
   ]
  },
  {
   "cell_type": "code",
   "execution_count": 34,
   "metadata": {
    "id": "sPfn0rNMMCbf"
   },
   "outputs": [
    {
     "data": {
      "text/plain": [
       "Text(0, 0.5, 'MAE')"
      ]
     },
     "execution_count": 34,
     "metadata": {},
     "output_type": "execute_result"
    },
    {
     "data": {
      "image/png": "[encoded data removed]",
      "text/plain": [
       "<Figure size 432x288 with 1 Axes>"
      ]
     },
     "metadata": {
      "needs_background": "light"
     },
     "output_type": "display_data"
    }
   ],
   "source": [
    "range_k = list(range(1,31)) + [40,50]\n",
    "MAE = [] \n",
    "trueRating = [r['rating'] for r in testUserItem] # extract the true ratings \n",
    "U, s, Vs = np.linalg.svd(Rc, full_matrices=False)\n",
    "for k in range_k:\n",
    "    # compute the truncated SVD\n",
    "    X, Y = feature_matrices(k, U, S, Vs)\n",
    "    \n",
    "    # perform the prediction\n",
    "    prediction = [np.dot(X[(r['user']-1),:],Y[:,(r['movie']-1)]) for r in testUserItem]\n",
    "    \n",
    "    # compute the errors\n",
    "    errorRating = np.asmatrix(prediction) - np.asmatrix(trueRating)\n",
    "    \n",
    "    # Get MAE\n",
    "    MAE.append(np.mean(np.abs(errorRating))) # Mean Absolute Error\n",
    "pl.plot(range_k, MAE, '-+')\n",
    "pl.xlabel('number of features k')\n",
    "pl.ylabel('MAE')"
   ]
  },
  {
   "cell_type": "code",
   "execution_count": 35,
   "metadata": {
    "id": "cj6OfUbdMCbf",
    "outputId": "5402decb-07d2-4a2c-b109-923afe1160a4"
   },
   "outputs": [
    {
     "name": "stdout",
     "output_type": "stream",
     "text": [
      "MAE Naive avec Rc 0.7769195137752108\n"
     ]
    }
   ],
   "source": [
    "print(\"MAE Naive avec Rc\", np.mean(MAE))"
   ]
  },
  {
   "cell_type": "code",
   "execution_count": 36,
   "metadata": {},
   "outputs": [],
   "source": [
    "U, s, Vs = np.linalg.svd(Rr, full_matrices=False)"
   ]
  },
  {
   "cell_type": "code",
   "execution_count": 37,
   "metadata": {
    "id": "FGJOL-uvMCbg"
   },
   "outputs": [
    {
     "data": {
      "text/plain": [
       "Text(0, 0.5, 'MAE')"
      ]
     },
     "execution_count": 37,
     "metadata": {},
     "output_type": "execute_result"
    },
    {
     "data": {
      "image/png": "[encoded data removed]",
      "text/plain": [
       "<Figure size 432x288 with 1 Axes>"
      ]
     },
     "metadata": {
      "needs_background": "light"
     },
     "output_type": "display_data"
    }
   ],
   "source": [
    "range_k = list(range(1,31)) + [40,50]\n",
    "MAE = [] \n",
    "trueRating = [r['rating'] for r in testUserItem] # extract the true ratings \n",
    "U, s, Vs = np.linalg.svd(Rr, full_matrices=False)\n",
    "for k in range_k:\n",
    "    # compute the truncated SVD\n",
    "\n",
    "    X, Y = feature_matrices(k, U, s, Vs) \n",
    "    \n",
    "    # perform the prediction\n",
    "    prediction = [np.dot(X[(r['user']-1),:],Y[:,(r['movie']-1)]) for r in testUserItem]\n",
    "    \n",
    "    # compute the errors\n",
    "    errorRating = np.asmatrix(prediction) - np.asmatrix(trueRating)\n",
    "    \n",
    "    # Get MAE\n",
    "    MAE.append(np.mean(np.abs(errorRating))) # Mean Absolute Error\n",
    "pl.plot(range_k, MAE, '-+')\n",
    "pl.xlabel('number of features k')\n",
    "pl.ylabel('MAE')"
   ]
  },
  {
   "cell_type": "code",
   "execution_count": 38,
   "metadata": {
    "id": "zYHOASrkMCbg",
    "outputId": "55c42c09-0b92-4b30-c17d-58541ed427cd"
   },
   "outputs": [
    {
     "name": "stdout",
     "output_type": "stream",
     "text": [
      "MAE Naive avec Rr 0.780778326330907\n"
     ]
    }
   ],
   "source": [
    "print(\"MAE Naive avec Rr\", np.mean(MAE))"
   ]
  },
  {
   "cell_type": "markdown",
   "metadata": {
    "id": "d4OxkOppMCbg"
   },
   "source": [
    "For U4"
   ]
  },
  {
   "cell_type": "code",
   "execution_count": 39,
   "metadata": {
    "id": "KVVg6OAoMCbg"
   },
   "outputs": [],
   "source": [
    "baseFileName = 'u4.base' # training dataset\n",
    "testFileName = 'u4.test' # test dataset (complement of the test dataset)\n",
    "userFileName = 'u.user'\n",
    "itemFileName = 'u.item'\n",
    "\n",
    "with open(baseFileName, 'r') as f:\n",
    "    fieldnames=['user','movie','rating','datestamp']\n",
    "    reader = csv.DictReader(f, delimiter = '\\t', fieldnames=fieldnames)\n",
    "    # create a dict out of reader, converting all values to integers\n",
    "    baseUserItem =  [dict([key, int(value)] for key, value in row.items()) for row in list(reader)]\n",
    "with open(testFileName, 'r') as f:\n",
    "    fieldnames=['user','movie','rating','datestamp']\n",
    "    reader = csv.DictReader(f, delimiter = '\\t', fieldnames=fieldnames)\n",
    "    # create a dict out of reader, converting all values to integers\n",
    "    testUserItem =  [dict([key, int(value)] for key, value in row.items()) for row in list(reader)]\n",
    "with open(userFileName, 'r') as f:\n",
    "    reader = csv.DictReader(f, delimiter = '|', fieldnames=['user','age','sex','occupation','zipcode'])\n",
    "    User = [dict([key, value] for key, value in row.items()) for row in list(reader)] \n",
    "with open(itemFileName, 'r', encoding='latin1') as f:\n",
    "    reader = csv.DictReader(f, delimiter = '|', fieldnames=['movie', 'movie title', 'release date', 'video release date',\\\n",
    "              'IMDb URL', 'unknown', 'Action', 'Adventure', 'Animation',\\\n",
    "              'Children''s', 'Comedy', 'Crime', 'Documentary', 'Drama', 'Fantasy',\\\n",
    "              'Film-Noir', 'Horror', 'Musical', 'Mystery', 'Romance', 'Sci-Fi',\\\n",
    "              'Thriller', 'War', 'Western'])\n",
    "    Item = [dict([key, value] for key, value in row.items()) for row in list(reader)]    "
   ]
  },
  {
   "cell_type": "code",
   "execution_count": 40,
   "metadata": {},
   "outputs": [],
   "source": [
    "# Fill the user-item matrix\n",
    "R = np.zeros( (nu,ni) ) # nu is the total number of users, ni the total number of items\n",
    "ratingPerUser = np.zeros( (nu,1) )\n",
    "for row in baseUserItem:\n",
    "    R[row['user']-1,row['movie']-1] = row['rating']"
   ]
  },
  {
   "cell_type": "code",
   "execution_count": 41,
   "metadata": {},
   "outputs": [],
   "source": [
    "Rr = np.zeros((nu,ni))\n",
    "for i in range(nu):\n",
    "    summ = 0\n",
    "    effective = 0\n",
    "    for j in range(ni):\n",
    "        if R[i][j] > 0:\n",
    "                summ = summ + R[i][j]\n",
    "                effective = 1 + effective\n",
    "                Rr[i][j]=R[i][j]\n",
    "    if effective > 0:\n",
    "        average = summ/effective\n",
    "    else:\n",
    "        average = 0\n",
    "    for j in range(ni):\n",
    "        if Rr[i][j]==0:\n",
    "            Rr[i][j]=average\n",
    "Rc = np.zeros((nu,ni))\n",
    "for j in range(ni):\n",
    "    summ = 0\n",
    "    effective = 0\n",
    "    for i in range(nu):\n",
    "        if R[i][j] > 0:\n",
    "                summ = summ + R[i][j]\n",
    "                effective = 1 + effective\n",
    "                Rc[i][j]=R[i][j]\n",
    "    if effective > 0:\n",
    "        average = summ/effective\n",
    "    else:\n",
    "        average = 0\n",
    "    for i in range(nu):\n",
    "        if Rc[i][j]==0:\n",
    "            Rc[i][j]=average"
   ]
  },
  {
   "cell_type": "code",
   "execution_count": 42,
   "metadata": {},
   "outputs": [],
   "source": [
    "U, s, Vs = np.linalg.svd(Rc, full_matrices=False)"
   ]
  },
  {
   "cell_type": "code",
   "execution_count": 43,
   "metadata": {
    "id": "rEV15GwjMCbg"
   },
   "outputs": [
    {
     "data": {
      "text/plain": [
       "Text(0, 0.5, 'MAE')"
      ]
     },
     "execution_count": 43,
     "metadata": {},
     "output_type": "execute_result"
    },
    {
     "data": {
      "image/png": "[encoded data removed]",
      "text/plain": [
       "<Figure size 432x288 with 1 Axes>"
      ]
     },
     "metadata": {
      "needs_background": "light"
     },
     "output_type": "display_data"
    }
   ],
   "source": [
    "range_k = list(range(1,31)) + [40,50]\n",
    "MAE = [] \n",
    "trueRating = [r['rating'] for r in testUserItem] # extract the true ratings \n",
    "U, s, Vs = np.linalg.svd(Rc, full_matrices=False)\n",
    "for k in range_k:\n",
    "    # compute the truncated SVD\n",
    "    X, Y = feature_matrices(k, U, S, Vs)\n",
    "    \n",
    "    # perform the prediction\n",
    "    prediction = [np.dot(X[(r['user']-1),:],Y[:,(r['movie']-1)]) for r in testUserItem]\n",
    "    \n",
    "    # compute the errors\n",
    "    errorRating = np.asmatrix(prediction) - np.asmatrix(trueRating)\n",
    "    \n",
    "    # Get MAE\n",
    "    MAE.append(np.mean(np.abs(errorRating))) # Mean Absolute Error\n",
    "pl.plot(range_k, MAE, '-+')\n",
    "pl.xlabel('number of features k')\n",
    "pl.ylabel('MAE')"
   ]
  },
  {
   "cell_type": "code",
   "execution_count": 44,
   "metadata": {
    "id": "tD3lZOgIMCbh",
    "outputId": "3a24ccdf-9f13-4a0b-9ce1-deeadf836451"
   },
   "outputs": [
    {
     "name": "stdout",
     "output_type": "stream",
     "text": [
      "MAE Naive avec Rc 0.7760687197481896\n"
     ]
    }
   ],
   "source": [
    "print(\"MAE Naive avec Rc\", np.mean(MAE))"
   ]
  },
  {
   "cell_type": "code",
   "execution_count": 45,
   "metadata": {},
   "outputs": [],
   "source": [
    "U, s, Vs = np.linalg.svd(Rr, full_matrices=False)"
   ]
  },
  {
   "cell_type": "code",
   "execution_count": 46,
   "metadata": {
    "id": "oRDWL2hRMCbh"
   },
   "outputs": [
    {
     "data": {
      "text/plain": [
       "Text(0, 0.5, 'MAE')"
      ]
     },
     "execution_count": 46,
     "metadata": {},
     "output_type": "execute_result"
    },
    {
     "data": {
      "image/png": "[encoded data removed]",
      "text/plain": [
       "<Figure size 432x288 with 1 Axes>"
      ]
     },
     "metadata": {
      "needs_background": "light"
     },
     "output_type": "display_data"
    }
   ],
   "source": [
    "range_k = list(range(1,31)) + [40,50]\n",
    "MAE = [] \n",
    "trueRating = [r['rating'] for r in testUserItem] # extract the true ratings \n",
    "U, s, Vs = np.linalg.svd(Rr, full_matrices=False)\n",
    "for k in range_k:\n",
    "    # compute the truncated SVD\n",
    "\n",
    "    X, Y = feature_matrices(k, U, s, Vs) \n",
    "    \n",
    "    # perform the prediction\n",
    "    prediction = [np.dot(X[(r['user']-1),:],Y[:,(r['movie']-1)]) for r in testUserItem]\n",
    "    \n",
    "    # compute the errors\n",
    "    errorRating = np.asmatrix(prediction) - np.asmatrix(trueRating)\n",
    "    \n",
    "    # Get MAE\n",
    "    MAE.append(np.mean(np.abs(errorRating))) # Mean Absolute Error\n",
    "pl.plot(range_k, MAE, '-+')\n",
    "pl.xlabel('number of features k')\n",
    "pl.ylabel('MAE')"
   ]
  },
  {
   "cell_type": "code",
   "execution_count": 47,
   "metadata": {
    "id": "Y7HCRcYxMCbh",
    "outputId": "55755a90-1224-4bbb-99d2-286635435f7e"
   },
   "outputs": [
    {
     "name": "stdout",
     "output_type": "stream",
     "text": [
      "MAE Naive avec Rr 0.7860239990811069\n"
     ]
    }
   ],
   "source": [
    "print(\"MAE Naive avec Rr\", np.mean(MAE))"
   ]
  },
  {
   "cell_type": "markdown",
   "metadata": {
    "id": "CKs3y4RCMCbh",
    "outputId": "14ea96d7-67a6-4225-88a9-fc73a76efcdf"
   },
   "source": [
    "For U5"
   ]
  },
  {
   "cell_type": "code",
   "execution_count": 48,
   "metadata": {
    "id": "lE67PG_wMCbh"
   },
   "outputs": [],
   "source": [
    "baseFileName = 'u5.base' # training dataset\n",
    "testFileName = 'u5.test' # test dataset (complement of the test dataset)\n",
    "userFileName = 'u.user'\n",
    "itemFileName = 'u.item'\n",
    "\n",
    "with open(baseFileName, 'r') as f:\n",
    "    fieldnames=['user','movie','rating','datestamp']\n",
    "    reader = csv.DictReader(f, delimiter = '\\t', fieldnames=fieldnames)\n",
    "    # create a dict out of reader, converting all values to integers\n",
    "    baseUserItem =  [dict([key, int(value)] for key, value in row.items()) for row in list(reader)]\n",
    "with open(testFileName, 'r') as f:\n",
    "    fieldnames=['user','movie','rating','datestamp']\n",
    "    reader = csv.DictReader(f, delimiter = '\\t', fieldnames=fieldnames)\n",
    "    # create a dict out of reader, converting all values to integers\n",
    "    testUserItem =  [dict([key, int(value)] for key, value in row.items()) for row in list(reader)]\n",
    "with open(userFileName, 'r') as f:\n",
    "    reader = csv.DictReader(f, delimiter = '|', fieldnames=['user','age','sex','occupation','zipcode'])\n",
    "    User = [dict([key, value] for key, value in row.items()) for row in list(reader)] \n",
    "with open(itemFileName, 'r', encoding='latin1') as f:\n",
    "    reader = csv.DictReader(f, delimiter = '|', fieldnames=['movie', 'movie title', 'release date', 'video release date',\\\n",
    "              'IMDb URL', 'unknown', 'Action', 'Adventure', 'Animation',\\\n",
    "              'Children''s', 'Comedy', 'Crime', 'Documentary', 'Drama', 'Fantasy',\\\n",
    "              'Film-Noir', 'Horror', 'Musical', 'Mystery', 'Romance', 'Sci-Fi',\\\n",
    "              'Thriller', 'War', 'Western'])\n",
    "    Item = [dict([key, value] for key, value in row.items()) for row in list(reader)]    "
   ]
  },
  {
   "cell_type": "code",
   "execution_count": 49,
   "metadata": {},
   "outputs": [],
   "source": [
    "# Fill the user-item matrix\n",
    "R = np.zeros( (nu,ni) ) # nu is the total number of users, ni the total number of items\n",
    "ratingPerUser = np.zeros( (nu,1) )\n",
    "for row in baseUserItem:\n",
    "    R[row['user']-1,row['movie']-1] = row['rating']"
   ]
  },
  {
   "cell_type": "code",
   "execution_count": 50,
   "metadata": {},
   "outputs": [],
   "source": [
    "Rr = np.zeros((nu,ni))\n",
    "for i in range(nu):\n",
    "    summ = 0\n",
    "    effective = 0\n",
    "    for j in range(ni):\n",
    "        if R[i][j] > 0:\n",
    "                summ = summ + R[i][j]\n",
    "                effective = 1 + effective\n",
    "                Rr[i][j]=R[i][j]\n",
    "    if effective > 0:\n",
    "        average = summ/effective\n",
    "    else:\n",
    "        average = 0\n",
    "    for j in range(ni):\n",
    "        if Rr[i][j]==0:\n",
    "            Rr[i][j]=average\n",
    "Rc = np.zeros((nu,ni))\n",
    "for j in range(ni):\n",
    "    summ = 0\n",
    "    effective = 0\n",
    "    for i in range(nu):\n",
    "        if R[i][j] > 0:\n",
    "                summ = summ + R[i][j]\n",
    "                effective = 1 + effective\n",
    "                Rc[i][j]=R[i][j]\n",
    "    if effective > 0:\n",
    "        average = summ/effective\n",
    "    else:\n",
    "        average = 0\n",
    "    for i in range(nu):\n",
    "        if Rc[i][j]==0:\n",
    "            Rc[i][j]=average"
   ]
  },
  {
   "cell_type": "code",
   "execution_count": 51,
   "metadata": {},
   "outputs": [],
   "source": [
    "U, s, Vs = np.linalg.svd(Rc, full_matrices=False)"
   ]
  },
  {
   "cell_type": "code",
   "execution_count": 52,
   "metadata": {
    "id": "GZlHE9icMCbi"
   },
   "outputs": [
    {
     "data": {
      "text/plain": [
       "Text(0, 0.5, 'MAE')"
      ]
     },
     "execution_count": 52,
     "metadata": {},
     "output_type": "execute_result"
    },
    {
     "data": {
      "image/png": "[encoded data removed]",
      "text/plain": [
       "<Figure size 432x288 with 1 Axes>"
      ]
     },
     "metadata": {
      "needs_background": "light"
     },
     "output_type": "display_data"
    }
   ],
   "source": [
    "range_k = list(range(1,31)) + [40,50]\n",
    "MAE = [] \n",
    "trueRating = [r['rating'] for r in testUserItem] # extract the true ratings \n",
    "U, s, Vs = np.linalg.svd(Rc, full_matrices=False)\n",
    "for k in range_k:\n",
    "    # compute the truncated SVD\n",
    "    X, Y = feature_matrices(k, U, S, Vs)\n",
    "    \n",
    "    # perform the prediction\n",
    "    prediction = [np.dot(X[(r['user']-1),:],Y[:,(r['movie']-1)]) for r in testUserItem]\n",
    "    \n",
    "    # compute the errors\n",
    "    errorRating = np.asmatrix(prediction) - np.asmatrix(trueRating)\n",
    "    \n",
    "    # Get MAE\n",
    "    MAE.append(np.mean(np.abs(errorRating))) # Mean Absolute Error\n",
    "pl.plot(range_k, MAE, '-+')\n",
    "pl.xlabel('number of features k')\n",
    "pl.ylabel('MAE')"
   ]
  },
  {
   "cell_type": "code",
   "execution_count": 53,
   "metadata": {
    "id": "LctRh2agMCbi",
    "outputId": "aab30f71-33d6-4732-cc6e-45bb265f3ceb"
   },
   "outputs": [
    {
     "name": "stdout",
     "output_type": "stream",
     "text": [
      "MAE Naive avec Rc 0.7864461635203357\n"
     ]
    }
   ],
   "source": [
    "print(\"MAE Naive avec Rc\", np.mean(MAE))"
   ]
  },
  {
   "cell_type": "code",
   "execution_count": 54,
   "metadata": {},
   "outputs": [],
   "source": [
    "U, s, Vs = np.linalg.svd(Rr, full_matrices=False)"
   ]
  },
  {
   "cell_type": "code",
   "execution_count": 55,
   "metadata": {
    "id": "IcchdQF_MCbi"
   },
   "outputs": [
    {
     "data": {
      "text/plain": [
       "Text(0, 0.5, 'MAE')"
      ]
     },
     "execution_count": 55,
     "metadata": {},
     "output_type": "execute_result"
    },
    {
     "data": {
      "image/png": "[encoded data removed]",
      "text/plain": [
       "<Figure size 432x288 with 1 Axes>"
      ]
     },
     "metadata": {
      "needs_background": "light"
     },
     "output_type": "display_data"
    }
   ],
   "source": [
    "range_k = list(range(1,31)) + [40,50]\n",
    "MAE = [] \n",
    "trueRating = [r['rating'] for r in testUserItem] # extract the true ratings \n",
    "U, s, Vs = np.linalg.svd(Rr, full_matrices=False)\n",
    "for k in range_k:\n",
    "    # compute the truncated SVD\n",
    "\n",
    "    X, Y = feature_matrices(k, U, s, Vs) \n",
    "    \n",
    "    # perform the prediction\n",
    "    prediction = [np.dot(X[(r['user']-1),:],Y[:,(r['movie']-1)]) for r in testUserItem]\n",
    "    \n",
    "    # compute the errors\n",
    "    errorRating = np.asmatrix(prediction) - np.asmatrix(trueRating)\n",
    "    \n",
    "    # Get MAE\n",
    "    MAE.append(np.mean(np.abs(errorRating))) # Mean Absolute Error\n",
    "pl.plot(range_k, MAE, '-+')\n",
    "pl.xlabel('number of features k')\n",
    "pl.ylabel('MAE')"
   ]
  },
  {
   "cell_type": "code",
   "execution_count": 56,
   "metadata": {
    "id": "45Fj_qRHMCbi",
    "outputId": "38548a9b-5a5b-43db-b2d9-e04997610d9c"
   },
   "outputs": [
    {
     "name": "stdout",
     "output_type": "stream",
     "text": [
      "MAE Naive avec Rr 0.7941787357143154\n"
     ]
    }
   ],
   "source": [
    "print(\"MAE Naive avec Rr\", np.mean(MAE))"
   ]
  },
  {
   "cell_type": "markdown",
   "metadata": {
    "id": "yuzaxjB4MCbi"
   },
   "source": [
    "### Question 6 - Theoretical question\n",
    "\n",
    "We have seen in class that every matrix admits a singular value decomposition. Show that a real matrix A has\n",
    "a real singular value decomposition. For the proof, use the fact that the matrices $U$ and $V$ contains eigenvectors of the matrices $AA^*$ and $A^*A$ to show that they are real.\n",
    "\n",
    "View pdf \n"
   ]
  },
  {
   "cell_type": "markdown",
   "metadata": {
    "id": "XTjSmg-lMCbj"
   },
   "source": [
    "## Bonus - Build your own recommender system\n",
    "\n",
    "Test the predictions on yourself: Rate a few movies among the ones present in the dataset (the list of movies is in `u.item`), maybe 10 or 20. Add theses ratings to the base dataset; you will be user `nu+1`. Generate predictions for each movie in the movie list, sort them out and produce a list of recommendation: movies you have *not rated* yet but with high predicted rating. You can also go to [movielens.org](https://movielens.org) to get recommendations on recent movies."
   ]
  },
  {
   "cell_type": "code",
   "execution_count": 57,
   "metadata": {},
   "outputs": [],
   "source": [
    "baseFileName = 'u.data_with_me' # set of data, with movies I rated\n",
    "userFileName = 'u.user_with_me' # set of user, including myself\n",
    "itemFileName = 'u.item'\n",
    "\n",
    "with open(baseFileName, 'r') as f:\n",
    "    fieldnames=['user','movie','rating','datestamp']\n",
    "    reader = csv.DictReader(f, delimiter = '\\t', fieldnames=fieldnames)\n",
    "    # create a dict out of reader, converting all values to integers\n",
    "    baseUserItem =  [dict([key, int(value)] for key, value in row.items()) for row in list(reader)]\n",
    "    \n",
    "with open(userFileName, 'r') as f:\n",
    "    reader = csv.DictReader(f, delimiter = '|', fieldnames=['user','age','sex','occupation','zipcode'])\n",
    "    User = [dict([key, value] for key, value in row.items()) for row in list(reader)] \n",
    "    \n",
    "with open(itemFileName, 'r', encoding='latin1') as f:\n",
    "    reader = csv.DictReader(f, delimiter = '|', fieldnames=['movie', 'movie title', 'release date', 'video release date',\\\n",
    "              'IMDb URL', 'unknown', 'Action', 'Adventure', 'Animation',\\\n",
    "              'Children''s', 'Comedy', 'Crime', 'Documentary', 'Drama', 'Fantasy',\\\n",
    "              'Film-Noir', 'Horror', 'Musical', 'Mystery', 'Romance', 'Sci-Fi',\\\n",
    "              'Thriller', 'War', 'Western'])\n",
    "    Item = [dict([key, value] for key, value in row.items()) for row in list(reader)]    "
   ]
  },
  {
   "cell_type": "code",
   "execution_count": 58,
   "metadata": {},
   "outputs": [
    {
     "name": "stdout",
     "output_type": "stream",
     "text": [
      "[[5. 3. 4. ... 0. 0. 0.]\n",
      " [4. 0. 0. ... 0. 0. 0.]\n",
      " [0. 0. 0. ... 0. 0. 0.]\n",
      " ...\n",
      " [0. 0. 0. ... 0. 0. 0.]\n",
      " [0. 5. 0. ... 0. 0. 0.]\n",
      " [0. 0. 0. ... 0. 0. 0.]]\n",
      "[[5.         3.         4.         ... 3.61029412 3.61029412 3.61029412]\n",
      " [4.         3.70967742 3.70967742 ... 3.70967742 3.70967742 3.70967742]\n",
      " [2.7962963  2.7962963  2.7962963  ... 2.7962963  2.7962963  2.7962963 ]\n",
      " ...\n",
      " [4.26582278 4.26582278 4.26582278 ... 4.26582278 4.26582278 4.26582278]\n",
      " [3.41071429 5.         3.41071429 ... 3.41071429 3.41071429 3.41071429]\n",
      " [3.35294118 3.35294118 3.35294118 ... 3.35294118 3.35294118 3.35294118]]\n",
      "[[5.         3.         4.         ... 2.         3.         3.        ]\n",
      " [4.         3.20610687 3.03333333 ... 2.         3.         3.        ]\n",
      " [3.87831858 3.20610687 3.03333333 ... 2.         3.         3.        ]\n",
      " ...\n",
      " [3.87831858 3.20610687 3.03333333 ... 2.         3.         3.        ]\n",
      " [3.87831858 5.         3.03333333 ... 2.         3.         3.        ]\n",
      " [3.87831858 3.20610687 3.03333333 ... 2.         3.         3.        ]]\n"
     ]
    }
   ],
   "source": [
    "nu=len(User)\n",
    "ni=len(Item)\n",
    "        \n",
    "R = np.zeros( (nu,ni) ) # nu is the total number of users, ni the total number of items\n",
    "ratingPerUser = np.zeros( (nu,1) )\n",
    "for row in baseUserItem:\n",
    "    R[row['user']-1,row['movie']-1] = row['rating']\n",
    "    \n",
    "Rr = np.zeros((nu,ni))\n",
    "for i in range(nu):\n",
    "    summ = 0\n",
    "    effective = 0\n",
    "    for j in range(ni):\n",
    "        if R[i][j] > 0:\n",
    "                summ = summ + R[i][j]\n",
    "                effective = 1 + effective\n",
    "                Rr[i][j]=R[i][j]\n",
    "    if effective > 0:\n",
    "        average = summ/effective\n",
    "    else:\n",
    "        average = 0\n",
    "    for j in range(ni):\n",
    "        if Rr[i][j]==0:\n",
    "            Rr[i][j]=average\n",
    "Rc = np.zeros((nu,ni))\n",
    "for j in range(ni):\n",
    "    summ = 0\n",
    "    effective = 0\n",
    "    for i in range(nu):\n",
    "        if R[i][j] > 0:\n",
    "                summ = summ + R[i][j]\n",
    "                effective = 1 + effective\n",
    "                Rc[i][j]=R[i][j]\n",
    "    if effective > 0:\n",
    "        average = summ/effective\n",
    "    else:\n",
    "        average = 0\n",
    "    for i in range(nu):\n",
    "        if Rc[i][j]==0:\n",
    "            Rc[i][j]=average\n",
    "\n",
    "print(R)\n",
    "print(Rr)\n",
    "print(Rc)"
   ]
  },
  {
   "cell_type": "code",
   "execution_count": 59,
   "metadata": {},
   "outputs": [],
   "source": [
    "def feature_matrices(k, U, s, Vs):\n",
    "    U = U[:,:k]\n",
    "    Vs = Vs[:k,:]\n",
    "    s = s[:k]\n",
    "    square_root_s = np.diag(s**(1/2))\n",
    "    X=U.dot(square_root_s)\n",
    "    Y=square_root_s.dot(Vs)\n",
    "    return X, Y"
   ]
  },
  {
   "cell_type": "code",
   "execution_count": 60,
   "metadata": {},
   "outputs": [],
   "source": [
    "def recommendation_list(N, nbuser, k, matrix, R):         \n",
    "    U, s, Vs=np.linalg.svd(matrix, full_matrices=False)\n",
    "    X, Y = feature_matrices(k, U, s, Vs)\n",
    "\n",
    "    list_ranking_predictions=[] #the list of predicted rankings for each item corresponding to a certain user \n",
    "   \n",
    "    #perform the prediction\n",
    "    for i in range(0,Y.shape[1]):\n",
    "        prediction = [np.dot(X[nbuser-1,:],Y[:,i]),i+1]\n",
    "        list_ranking_predictions.append(prediction)\n",
    "    list_ranking_predictions.sort(reverse=True) #the list of predicted rankings for each item corresponding to the user, but sorted\n",
    "   \n",
    "    recommendation=[] #the list of recommendations with N movies\n",
    "    i=0\n",
    "    while len(recommendation)<N:\n",
    "        if R[nbuser-1][(list_ranking_predictions[i][1]-1)]==0:  #we check that the item have not already been rated\n",
    "            recommendation.append(list_ranking_predictions[i][1])   \n",
    "        i+=1 \n",
    "    return recommendation\n",
    "\n",
    "\n",
    "def print_recommendations(recommendation):\n",
    "    nb=1\n",
    "    for i in recommendation:\n",
    "        for it in Item: #we try here to print the title of the movie\n",
    "                if it['movie']==str(i):\n",
    "                    print(str(nb)+\". \"+it['movie title']  )\n",
    "                    nb+=1"
   ]
  },
  {
   "cell_type": "code",
   "execution_count": 61,
   "metadata": {},
   "outputs": [
    {
     "name": "stdout",
     "output_type": "stream",
     "text": [
      "1. Entertaining Angels: The Dorothy Day Story (1996)\n",
      "2. Someone Else's America (1995)\n",
      "3. Aiqing wansui (1994)\n",
      "4. Santa with Muscles (1996)\n",
      "5. Saint of Fort Washington, The (1993)\n",
      "6. Star Kid (1997)\n",
      "7. Marlene Dietrich: Shadow and Light (1996) \n",
      "8. Prefontaine (1997)\n",
      "9. They Made Me a Criminal (1939)\n",
      "10. Great Day in Harlem, A (1994)\n",
      "11. Pather Panchali (1955)\n",
      "12. Anna (1996)\n",
      "13. Everest (1998)\n",
      "14. Some Mother's Son (1996)\n",
      "15. Maya Lin: A Strong Clear Vision (1994)\n",
      "16. Close Shave, A (1995)\n",
      "17. Wrong Trousers, The (1993)\n",
      "18. Casablanca (1942)\n",
      "19. Schindler's List (1993)\n",
      "20. Wallace & Gromit: The Best of Aardman Animation (1996)\n"
     ]
    }
   ],
   "source": [
    "#if we want a list of 20 movies for the user id corresponding to myself is 944, \n",
    "# we choose k=15, \n",
    "# and Rc because it is the matrix that was closer to reality and the best.\n",
    "N=20\n",
    "nbuser=944\n",
    "k=15\n",
    "print_recommendations(recommendation_list(N, nbuser, k, Rc, R))"
   ]
  }
 ],
 "metadata": {
  "colab": {
   "name": "3BIM_algebra_recommender_system.ipynb",
   "provenance": []
  },
  "kernelspec": {
   "display_name": "Python 3 (ipykernel)",
   "language": "python",
   "name": "python3"
  },
  "language_info": {
   "codemirror_mode": {
    "name": "ipython",
    "version": 3
   },
   "file_extension": ".py",
   "mimetype": "text/x-python",
   "name": "python",
   "nbconvert_exporter": "python",
   "pygments_lexer": "ipython3",
   "version": "3.9.7"
  }
 },
 "nbformat": 4,
 "nbformat_minor": 1
}
